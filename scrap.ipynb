{
 "cells": [
  {
   "cell_type": "code",
   "execution_count": 4,
   "metadata": {},
   "outputs": [
    {
     "name": "stdout",
     "output_type": "stream",
     "text": [
      "Collecting bs4\n",
      "  Downloading bs4-0.0.1.tar.gz (1.1 kB)\n",
      "  Preparing metadata (setup.py) ... \u001b[?25ldone\n",
      "\u001b[?25hCollecting beautifulsoup4\n",
      "  Downloading beautifulsoup4-4.12.2-py3-none-any.whl (142 kB)\n",
      "\u001b[2K     \u001b[90m━━━━━━━━━━━━━━━━━━━━━━━━━━━━━━━━━━━━━━━\u001b[0m \u001b[32m143.0/143.0 kB\u001b[0m \u001b[31m1.1 MB/s\u001b[0m eta \u001b[36m0:00:00\u001b[0ma \u001b[36m0:00:01\u001b[0m\n",
      "\u001b[?25hCollecting soupsieve>1.2\n",
      "  Downloading soupsieve-2.4.1-py3-none-any.whl (36 kB)\n",
      "Building wheels for collected packages: bs4\n",
      "  Building wheel for bs4 (setup.py) ... \u001b[?25ldone\n",
      "\u001b[?25h  Created wheel for bs4: filename=bs4-0.0.1-py3-none-any.whl size=1257 sha256=5306e14334ccb4e2328bc6b3b1a1438e901e136332940be456fddb025a4cd690\n",
      "  Stored in directory: /Users/wadirmalik/Library/Caches/pip/wheels/d4/c8/5b/b5be9c20e5e4503d04a6eac8a3cd5c2393505c29f02bea0960\n",
      "Successfully built bs4\n",
      "Installing collected packages: soupsieve, beautifulsoup4, bs4\n",
      "Successfully installed beautifulsoup4-4.12.2 bs4-0.0.1 soupsieve-2.4.1\n",
      "\n",
      "\u001b[1m[\u001b[0m\u001b[34;49mnotice\u001b[0m\u001b[1;39;49m]\u001b[0m\u001b[39;49m A new release of pip is available: \u001b[0m\u001b[31;49m23.0.1\u001b[0m\u001b[39;49m -> \u001b[0m\u001b[32;49m23.1.2\u001b[0m\n",
      "\u001b[1m[\u001b[0m\u001b[34;49mnotice\u001b[0m\u001b[1;39;49m]\u001b[0m\u001b[39;49m To update, run: \u001b[0m\u001b[32;49mpython3.11 -m pip install --upgrade pip\u001b[0m\n",
      "Note: you may need to restart the kernel to use updated packages.\n"
     ]
    }
   ],
   "source": [
    "pip install bs4"
   ]
  },
  {
   "cell_type": "code",
   "execution_count": 5,
   "metadata": {},
   "outputs": [
    {
     "name": "stdout",
     "output_type": "stream",
     "text": [
      "Collecting html5lib\n",
      "  Downloading html5lib-1.1-py2.py3-none-any.whl (112 kB)\n",
      "\u001b[2K     \u001b[90m━━━━━━━━━━━━━━━━━━━━━━━━━━━━━━━━━━━━━━━\u001b[0m \u001b[32m112.2/112.2 kB\u001b[0m \u001b[31m1.1 MB/s\u001b[0m eta \u001b[36m0:00:00\u001b[0ma \u001b[36m0:00:01\u001b[0m\n",
      "\u001b[?25hRequirement already satisfied: six>=1.9 in /usr/local/lib/python3.11/site-packages (from html5lib) (1.16.0)\n",
      "Collecting webencodings\n",
      "  Downloading webencodings-0.5.1-py2.py3-none-any.whl (11 kB)\n",
      "Installing collected packages: webencodings, html5lib\n",
      "Successfully installed html5lib-1.1 webencodings-0.5.1\n",
      "\n",
      "\u001b[1m[\u001b[0m\u001b[34;49mnotice\u001b[0m\u001b[1;39;49m]\u001b[0m\u001b[39;49m A new release of pip is available: \u001b[0m\u001b[31;49m23.0.1\u001b[0m\u001b[39;49m -> \u001b[0m\u001b[32;49m23.1.2\u001b[0m\n",
      "\u001b[1m[\u001b[0m\u001b[34;49mnotice\u001b[0m\u001b[1;39;49m]\u001b[0m\u001b[39;49m To update, run: \u001b[0m\u001b[32;49mpython3.11 -m pip install --upgrade pip\u001b[0m\n",
      "Note: you may need to restart the kernel to use updated packages.\n"
     ]
    }
   ],
   "source": [
    "pip install html5lib"
   ]
  },
  {
   "cell_type": "code",
   "execution_count": 19,
   "metadata": {},
   "outputs": [],
   "source": [
    "from bs4 import BeautifulSoup\n",
    "import time\n",
    "import requests\n",
    "import re"
   ]
  },
  {
   "cell_type": "code",
   "execution_count": null,
   "metadata": {},
   "outputs": [],
   "source": []
  },
  {
   "cell_type": "code",
   "execution_count": 8,
   "metadata": {},
   "outputs": [],
   "source": [
    "\n",
    "headers = {'User-Agent': \"Mozilla/5.0 (Windows NT 10.0; Win64; x64) AppleWebKit/537.36 (KHTML, like Gecko) Chrome/111.0.0.0 Safari/537.36\"}\n",
    "#driver = webdriver.Chrome()\n",
    "#driver.get(URL)\n",
    "#time.sleep(3)\n",
    "#html = driver.page_source\n",
    "#soup = BeautifulSoup(html, 'html.parser')\n",
    "#r = requests.get(url=URL, headers=headers)\n",
    "#driver.switch_to.frame(\"sp_message_iframe_764224\") \n",
    "#element = driver.find_element(By.XPATH, '/html/body/div/div[2]/div[3]/div[2]/button').click()"
   ]
  },
  {
   "cell_type": "code",
   "execution_count": null,
   "metadata": {},
   "outputs": [],
   "source": [
    "element = driver.find_element(by=By.XPATH, value= '//*[title=\"ACCEPT ALL]' )\n",
    "element.click()"
   ]
  },
  {
   "cell_type": "code",
   "execution_count": null,
   "metadata": {},
   "outputs": [],
   "source": [
    "players_list = []\n",
    "age_list = []\n",
    "position_list = []\n",
    "value_list = []\n",
    "badge_list = []"
   ]
  },
  {
   "cell_type": "code",
   "execution_count": null,
   "metadata": {},
   "outputs": [],
   "source": [
    "for pagenum in range(1, 5):\n",
    "    URL = \"https://www.transfermarkt.co.uk/premier-league/marktwerte/wettbewerb/GB1/page/\" +str(pagenum)\n",
    "    r = requests.get(url=URL, headers=headers)\n",
    "    soup = BeautifulSoup(r.content, 'html.parser')\n",
    "\n",
    "    players = soup.find_all(\"td\", class_=\"hauptlink\")\n",
    "    ages = soup.find_all(\"td\", class_=\"zentriert\")\n",
    "    nationality = soup.find_all(\"td\", class_=\"zentriert\")\n",
    "    values = soup.find_all(\"td\", class_=\"rechts hauptlink\")\n",
    "    "
   ]
  },
  {
   "cell_type": "code",
   "execution_count": null,
   "metadata": {},
   "outputs": [],
   "source": [
    "for pagenum in range(1, 5):\n",
    "    URL = \"https://www.transfermarkt.co.uk/premier-league/marktwerte/wettbewerb/GB1/page/\" + str(pagenum)\n",
    "    r = requests.get(url=URL, headers=headers)\n",
    "    soup = BeautifulSoup(r.content, 'html.parser')\n",
    "\n",
    "    players = soup.find_all(\"td\", class_=\"hauptlink\")\n",
    "    for player in players:\n",
    "        players_list.append(player.text)\n",
    "\n",
    "    ages = soup.find_all(\"td\", class_=\"zentriert\")\n",
    "    for age in ages:\n",
    "        age_list.append(age.text)\n",
    "        \n",
    "    nationalities = soup.find_all(\"td\", class_=\"zentriert\")\n",
    "    for nation in nationality:\n",
    "        flags = nation.find_all('img')  \n",
    "        if flags:  \n",
    "            first_flag = flags[0]  \n",
    "            first_nationality = first_flag['title']\n",
    "            nationality_list.append(first_nationality)\n",
    "    \n",
    "    values = soup.find_all(\"td\", class_=\"rechts hauptlink\")\n",
    "    for value in values:\n",
    "        value_list.append(value.text)"
   ]
  },
  {
   "cell_type": "code",
   "execution_count": null,
   "metadata": {},
   "outputs": [],
   "source": [
    "badges = soup.find_all(\"td\", class_=\"zentriert\")\n",
    "for badge in badges:\n",
    "    flags = badge.find_all('img')  \n",
    "    if flags:  \n",
    "        first_flag = flags[0]  \n",
    "        first_badge = first_flag['title']\n",
    "        badge_list.append(first_badge)\n",
    "        print(first_nationality)"
   ]
  },
  {
   "cell_type": "code",
   "execution_count": null,
   "metadata": {},
   "outputs": [],
   "source": [
    "nationality_list"
   ]
  },
  {
   "cell_type": "code",
   "execution_count": null,
   "metadata": {},
   "outputs": [],
   "source": [
    "players"
   ]
  },
  {
   "cell_type": "code",
   "execution_count": null,
   "metadata": {},
   "outputs": [],
   "source": [
    "for player in players:\n",
    "    players_list.append(player.text)"
   ]
  },
  {
   "cell_type": "code",
   "execution_count": null,
   "metadata": {},
   "outputs": [],
   "source": [
    "players_list"
   ]
  },
  {
   "cell_type": "code",
   "execution_count": null,
   "metadata": {},
   "outputs": [],
   "source": [
    "\n",
    "i = 1\n",
    "while i < len(players_list):\n",
    "    del players_list[i]\n",
    "    i += 1\n",
    "print(players_list)\n"
   ]
  },
  {
   "cell_type": "code",
   "execution_count": null,
   "metadata": {},
   "outputs": [],
   "source": [
    "ages = soup.find_all(\"td\", class_=\"zentriert\")"
   ]
  },
  {
   "cell_type": "code",
   "execution_count": null,
   "metadata": {},
   "outputs": [],
   "source": [
    "ages"
   ]
  },
  {
   "cell_type": "code",
   "execution_count": null,
   "metadata": {},
   "outputs": [],
   "source": [
    "for age in ages:\n",
    "    age_list.append(age.text)"
   ]
  },
  {
   "cell_type": "code",
   "execution_count": null,
   "metadata": {},
   "outputs": [],
   "source": [
    "age_list"
   ]
  },
  {
   "cell_type": "code",
   "execution_count": null,
   "metadata": {},
   "outputs": [],
   "source": [
    "new_age_list = []\n",
    "for i in range(2, len(age_list), 4):\n",
    "    new_age_list.append(age_list[i])\n",
    "print(new_age_list)"
   ]
  },
  {
   "cell_type": "code",
   "execution_count": null,
   "metadata": {},
   "outputs": [],
   "source": [
    "new_age_list"
   ]
  },
  {
   "cell_type": "code",
   "execution_count": null,
   "metadata": {},
   "outputs": [],
   "source": [
    "nationality = soup.find_all(\"td\", class_=\"zentriert\")"
   ]
  },
  {
   "cell_type": "code",
   "execution_count": null,
   "metadata": {},
   "outputs": [],
   "source": [
    "nationality"
   ]
  },
  {
   "cell_type": "code",
   "execution_count": null,
   "metadata": {},
   "outputs": [],
   "source": [
    "for pagenum in range(1, 5):\n",
    "    URL = \"https://www.transfermarkt.co.uk/premier-league/marktwerte/wettbewerb/GB1/page/\" + str(pagenum)\n",
    "    r = requests.get(url=URL, headers=headers)\n",
    "    soup = BeautifulSoup(r.content, 'html.parser')\n",
    "    table = soup.find(\"table\", class_='items')\n",
    "    tbody = table.find(\"tbody\")\n",
    "    badges = tbody.find_all(\"td\", class_=\"zentriert\")\n",
    "    for badge in badges:\n",
    "        flags = badge.find_all('img')  \n",
    "        if flags:  \n",
    "            first_flag = flags[0]  \n",
    "            first_badge = first_flag['title']\n",
    "            badge_list.append(first_badge)\n",
    "            print(first_badge)\n"
   ]
  },
  {
   "cell_type": "code",
   "execution_count": null,
   "metadata": {},
   "outputs": [],
   "source": [
    "badge_list"
   ]
  },
  {
   "cell_type": "code",
   "execution_count": null,
   "metadata": {},
   "outputs": [],
   "source": [
    "del badge_list[-5:]"
   ]
  },
  {
   "cell_type": "code",
   "execution_count": null,
   "metadata": {},
   "outputs": [],
   "source": [
    "indexes_to_delete = [219, 218, 217, 216, 215, 164, 163, 162, 161, 160, 109, 108, 107, 106, 105, 54, 53, 52, 51, 50]\n",
    "\n",
    "for index in indexes_to_delete:\n",
    "    del badge_list[index]"
   ]
  },
  {
   "cell_type": "code",
   "execution_count": null,
   "metadata": {},
   "outputs": [],
   "source": [
    "badge_list"
   ]
  },
  {
   "cell_type": "code",
   "execution_count": null,
   "metadata": {},
   "outputs": [],
   "source": [
    "nationality_list = badge_list[::2]\n",
    "club_list = badge_list[1::2]"
   ]
  },
  {
   "cell_type": "code",
   "execution_count": null,
   "metadata": {},
   "outputs": [],
   "source": [
    "nationality_list"
   ]
  },
  {
   "cell_type": "code",
   "execution_count": null,
   "metadata": {},
   "outputs": [],
   "source": [
    "club_list"
   ]
  },
  {
   "cell_type": "code",
   "execution_count": null,
   "metadata": {},
   "outputs": [],
   "source": [
    "for nation in nationality:\n",
    "    flags = nation.find('img')  \n",
    "    if flags:  \n",
    "        first_flag = flags['0']  \n",
    "        first_nationality = first_flag['title']\n",
    "        nationality_list.append(first_nationality)\n",
    "        print(first_nationality)"
   ]
  },
  {
   "cell_type": "code",
   "execution_count": null,
   "metadata": {},
   "outputs": [],
   "source": [
    "i = 1\n",
    "while i < len(nationality_list):\n",
    "    del nationality_list[i]\n",
    "    i += 1\n",
    "print(nationality_list)"
   ]
  },
  {
   "cell_type": "code",
   "execution_count": null,
   "metadata": {},
   "outputs": [],
   "source": [
    "values = soup.find_all(\"td\", class_=\"rechts hauptlink\")"
   ]
  },
  {
   "cell_type": "code",
   "execution_count": null,
   "metadata": {},
   "outputs": [],
   "source": [
    "values"
   ]
  },
  {
   "cell_type": "code",
   "execution_count": null,
   "metadata": {},
   "outputs": [],
   "source": [
    "for value in values:\n",
    "    value_list.append(value.text)"
   ]
  },
  {
   "cell_type": "code",
   "execution_count": null,
   "metadata": {},
   "outputs": [],
   "source": [
    "value_list"
   ]
  },
  {
   "cell_type": "code",
   "execution_count": null,
   "metadata": {},
   "outputs": [],
   "source": [
    "all_players = []\n",
    "\n",
    "for pagenum in range(1, 5):\n",
    "    URL = \"https://www.transfermarkt.co.uk/premier-league/marktwerte/wettbewerb/GB1/page/\" + str(pagenum)\n",
    "    r = requests.get(url=URL, headers=headers)\n",
    "    soup = BeautifulSoup(r.content, 'html.parser')\n",
    "    table = soup.find(\"table\", class_='items')\n",
    "    tbody = table.find(\"tbody\")\n",
    "    rows = tbody.find_all(\"tr\")\n",
    "\n",
    "    for row in rows:\n",
    "        cols = row.find_all('td')\n",
    "        cols = [col.text.strip() for col in cols]\n",
    "        all_players.append(cols)\n",
    "\n",
    "    print(all_players)\n",
    "    print(len(all_players))\n"
   ]
  },
  {
   "cell_type": "code",
   "execution_count": null,
   "metadata": {},
   "outputs": [],
   "source": [
    "all_players"
   ]
  },
  {
   "cell_type": "code",
   "execution_count": null,
   "metadata": {},
   "outputs": [],
   "source": [
    "final_players = [all_players[i] for i in range(len(all_players)) if i % 3 == 0]\n",
    "\n",
    "print(final_players)\n"
   ]
  },
  {
   "cell_type": "code",
   "execution_count": null,
   "metadata": {},
   "outputs": [],
   "source": [
    "final_players[2]"
   ]
  },
  {
   "cell_type": "code",
   "execution_count": null,
   "metadata": {},
   "outputs": [],
   "source": [
    "import pandas as pd\n",
    "\n",
    "df = pd.DataFrame(final_players, columns=['Rank', 'null', 'null1', 'Player', 'Position', 'null3', 'Age', 'null4', 'Value'])\n"
   ]
  },
  {
   "cell_type": "code",
   "execution_count": null,
   "metadata": {},
   "outputs": [],
   "source": [
    "df.head()"
   ]
  },
  {
   "cell_type": "code",
   "execution_count": null,
   "metadata": {},
   "outputs": [],
   "source": []
  },
  {
   "cell_type": "code",
   "execution_count": null,
   "metadata": {},
   "outputs": [],
   "source": [
    "df['Nationality'] = nationality_list"
   ]
  },
  {
   "cell_type": "code",
   "execution_count": null,
   "metadata": {},
   "outputs": [],
   "source": [
    "df['Club'] = club_list"
   ]
  },
  {
   "cell_type": "code",
   "execution_count": null,
   "metadata": {},
   "outputs": [],
   "source": [
    "USER_AGENT = 'Mozilla/5.0 (Windows NT 10.0; Win64; x64) AppleWebKit/537.36 (KHTML, like Gecko) Chrome/111.0.0.0 Safari/537.36'\n",
    "URL_TEMPLATE = 'https://www.transfermarkt.co.uk/premier-league/marktwerte/wettbewerb/GB1/page/{}'\n",
    "headers = {'User-Agent': USER_AGENT}"
   ]
  },
  {
   "cell_type": "code",
   "execution_count": null,
   "metadata": {},
   "outputs": [],
   "source": [
    "def scrape_webpage(url):\n",
    "    response = requests.get(url=url, headers=headers)\n",
    "    return BeautifulSoup(response.content, 'html.parser')"
   ]
  },
  {
   "cell_type": "code",
   "execution_count": null,
   "metadata": {},
   "outputs": [],
   "source": [
    "all_players = []\n",
    "for pagenum in range(1, 5):\n",
    "    url = URL_TEMPLATE.format(pagenum)\n",
    "    soup = scrape_webpage(url)\n",
    "    table = soup.find(\"table\", class_='items')\n",
    "    tbody = table.find(\"tbody\")\n",
    "    rows = tbody.find_all(\"tr\")\n",
    "    for row in rows:\n",
    "        cols = row.find_all('td')\n",
    "        cols = [col.text.strip() for col in cols]\n",
    "        all_players.append(cols)\n",
    "final_players = [all_players[i] for i in range(len(all_players)) if i % 3 == 0]\n",
    "print(final_players)"
   ]
  },
  {
   "cell_type": "code",
   "execution_count": null,
   "metadata": {},
   "outputs": [],
   "source": [
    "all_players = []\n",
    "for pagenum in range(1, 5):\n",
    "    URL = \"https://www.transfermarkt.co.uk/premier-league/marktwerte/wettbewerb/GB1/page/\" + str(pagenum)\n",
    "    r = requests.get(url=URL, headers=headers)\n",
    "    soup = BeautifulSoup(r.content, 'html.parser')\n",
    "    table = soup.find(\"table\", class_='items')\n",
    "    tbody = table.find(\"tbody\")\n",
    "    rows = tbody.find_all(\"tr\")\n",
    "\n",
    "    for row in rows:\n",
    "        cols = row.find_all('td')\n",
    "        cols = [col.text.strip() for col in cols]\n",
    "        all_players.append(cols)\n",
    "\n",
    "final_players = [all_players[i] for i in range(len(all_players)) if i % 3 == 0]"
   ]
  },
  {
   "cell_type": "code",
   "execution_count": 2,
   "metadata": {},
   "outputs": [],
   "source": [
    "league_codes = [\"GB1\", \"FR1\", \"L1\", \"IT1\", \"ES1\"]\n",
    "list_seasons = [\"2016\", \"2017\", \"2018\", \"2019\", \"2020\", \"2021\", \"2022\"]"
   ]
  },
  {
   "cell_type": "code",
   "execution_count": 10,
   "metadata": {},
   "outputs": [],
   "source": [
    "url_temp = \"https://www.transfermarkt.co.uk/jumplist/startseite/wettbewerb/{}\"\n"
   ]
  },
  {
   "cell_type": "code",
   "execution_count": 30,
   "metadata": {},
   "outputs": [
    {
     "name": "stdout",
     "output_type": "stream",
     "text": [
      "https://www.transfermarkt.co.uk/jumplist/startseite/wettbewerb/GB1\n",
      "/manchester-city/startseite/verein/281/saison_id/2022\n",
      "/fc-chelsea/startseite/verein/631/saison_id/2022\n",
      "/fc-arsenal/startseite/verein/11/saison_id/2022\n",
      "/fc-liverpool/startseite/verein/31/saison_id/2022\n",
      "/manchester-united/startseite/verein/985/saison_id/2022\n",
      "/tottenham-hotspur/startseite/verein/148/saison_id/2022\n",
      "/newcastle-united/startseite/verein/762/saison_id/2022\n",
      "/aston-villa/startseite/verein/405/saison_id/2022\n",
      "/west-ham-united/startseite/verein/379/saison_id/2022\n",
      "/leicester-city/startseite/verein/1003/saison_id/2022\n",
      "/fc-southampton/startseite/verein/180/saison_id/2022\n",
      "/wolverhampton-wanderers/startseite/verein/543/saison_id/2022\n",
      "/leeds-united/startseite/verein/399/saison_id/2022\n",
      "/fc-everton/startseite/verein/29/saison_id/2022\n",
      "/brighton-amp-hove-albion/startseite/verein/1237/saison_id/2022\n",
      "/fc-brentford/startseite/verein/1148/saison_id/2022\n",
      "/nottingham-forest/startseite/verein/703/saison_id/2022\n",
      "/crystal-palace/startseite/verein/873/saison_id/2022\n",
      "/fc-fulham/startseite/verein/931/saison_id/2022\n",
      "/afc-bournemouth/startseite/verein/989/saison_id/2022\n",
      "https://www.transfermarkt.co.uk/jumplist/startseite/wettbewerb/FR1\n",
      "/fc-paris-saint-germain/startseite/verein/583/saison_id/2022\n",
      "/as-monaco/startseite/verein/162/saison_id/2022\n",
      "/fc-stade-rennes/startseite/verein/273/saison_id/2022\n",
      "/olympique-marseille/startseite/verein/244/saison_id/2022\n",
      "/ogc-nizza/startseite/verein/417/saison_id/2022\n",
      "/olympique-lyon/startseite/verein/1041/saison_id/2022\n",
      "/losc-lille/startseite/verein/1082/saison_id/2022\n",
      "/rc-lens/startseite/verein/826/saison_id/2022\n",
      "/fc-nantes/startseite/verein/995/saison_id/2022\n",
      "/montpellier-hsc/startseite/verein/969/saison_id/2022\n",
      "/rc-strassburg-alsace/startseite/verein/667/saison_id/2022\n",
      "/stade-reims/startseite/verein/1421/saison_id/2022\n",
      "/fc-lorient/startseite/verein/1158/saison_id/2022\n",
      "/fc-toulouse/startseite/verein/415/saison_id/2022\n",
      "/es-troyes-ac/startseite/verein/1095/saison_id/2022\n",
      "/stade-brest-29/startseite/verein/3911/saison_id/2022\n",
      "/sco-angers/startseite/verein/1420/saison_id/2022\n",
      "/aj-auxerre/startseite/verein/290/saison_id/2022\n",
      "/clermont-foot-63/startseite/verein/3524/saison_id/2022\n",
      "/ac-ajaccio/startseite/verein/1147/saison_id/2022\n",
      "https://www.transfermarkt.co.uk/jumplist/startseite/wettbewerb/L1\n",
      "/fc-bayern-munchen/startseite/verein/27/saison_id/2022\n",
      "/borussia-dortmund/startseite/verein/16/saison_id/2022\n",
      "/rasenballsport-leipzig/startseite/verein/23826/saison_id/2022\n",
      "/bayer-04-leverkusen/startseite/verein/15/saison_id/2022\n",
      "/eintracht-frankfurt/startseite/verein/24/saison_id/2022\n",
      "/borussia-monchengladbach/startseite/verein/18/saison_id/2022\n",
      "/vfl-wolfsburg/startseite/verein/82/saison_id/2022\n",
      "/sc-freiburg/startseite/verein/60/saison_id/2022\n",
      "/tsg-1899-hoffenheim/startseite/verein/533/saison_id/2022\n",
      "/1-fc-union-berlin/startseite/verein/89/saison_id/2022\n",
      "/fc-augsburg/startseite/verein/167/saison_id/2022\n",
      "/vfb-stuttgart/startseite/verein/79/saison_id/2022\n",
      "/1-fsv-mainz-05/startseite/verein/39/saison_id/2022\n",
      "/1-fc-koln/startseite/verein/3/saison_id/2022\n",
      "/hertha-bsc/startseite/verein/44/saison_id/2022\n",
      "/sv-werder-bremen/startseite/verein/86/saison_id/2022\n",
      "/fc-schalke-04/startseite/verein/33/saison_id/2022\n",
      "/vfl-bochum/startseite/verein/80/saison_id/2022\n",
      "https://www.transfermarkt.co.uk/jumplist/startseite/wettbewerb/IT1\n",
      "/ssc-neapel/startseite/verein/6195/saison_id/2022\n",
      "/ac-mailand/startseite/verein/5/saison_id/2022\n",
      "/inter-mailand/startseite/verein/46/saison_id/2022\n",
      "/juventus-turin/startseite/verein/506/saison_id/2022\n",
      "/atalanta-bergamo/startseite/verein/800/saison_id/2022\n",
      "/as-rom/startseite/verein/12/saison_id/2022\n",
      "/lazio-rom/startseite/verein/398/saison_id/2022\n",
      "/ac-florenz/startseite/verein/430/saison_id/2022\n",
      "/us-sassuolo/startseite/verein/6574/saison_id/2022\n",
      "/fc-turin/startseite/verein/416/saison_id/2022\n",
      "/udinese-calcio/startseite/verein/410/saison_id/2022\n",
      "/fc-bologna/startseite/verein/1025/saison_id/2022\n",
      "/ac-monza/startseite/verein/2919/saison_id/2022\n",
      "/fc-empoli/startseite/verein/749/saison_id/2022\n",
      "/us-salernitana-1919/startseite/verein/380/saison_id/2022\n",
      "/us-lecce/startseite/verein/1005/saison_id/2022\n",
      "/spezia-calcio/startseite/verein/3522/saison_id/2022\n",
      "/hellas-verona/startseite/verein/276/saison_id/2022\n",
      "/sampdoria-genua/startseite/verein/1038/saison_id/2022\n",
      "/us-cremonese/startseite/verein/2239/saison_id/2022\n",
      "https://www.transfermarkt.co.uk/jumplist/startseite/wettbewerb/ES1\n",
      "/real-madrid/startseite/verein/418/saison_id/2022\n",
      "/fc-barcelona/startseite/verein/131/saison_id/2022\n",
      "/atletico-madrid/startseite/verein/13/saison_id/2022\n",
      "/real-sociedad-san-sebastian/startseite/verein/681/saison_id/2022\n",
      "/fc-villarreal/startseite/verein/1050/saison_id/2022\n",
      "/real-betis-sevilla/startseite/verein/150/saison_id/2022\n",
      "/athletic-bilbao/startseite/verein/621/saison_id/2022\n",
      "/fc-valencia/startseite/verein/1049/saison_id/2022\n",
      "/fc-sevilla/startseite/verein/368/saison_id/2022\n",
      "/celta-vigo/startseite/verein/940/saison_id/2022\n",
      "/fc-getafe/startseite/verein/3709/saison_id/2022\n",
      "/ca-osasuna/startseite/verein/331/saison_id/2022\n",
      "/fc-girona/startseite/verein/12321/saison_id/2022\n",
      "/espanyol-barcelona/startseite/verein/714/saison_id/2022\n",
      "/rayo-vallecano/startseite/verein/367/saison_id/2022\n",
      "/rcd-mallorca/startseite/verein/237/saison_id/2022\n",
      "/ud-almeria/startseite/verein/3302/saison_id/2022\n",
      "/real-valladolid/startseite/verein/366/saison_id/2022\n",
      "/fc-cadiz/startseite/verein/2687/saison_id/2022\n",
      "/fc-elche/startseite/verein/1531/saison_id/2022\n"
     ]
    }
   ],
   "source": [
    "list_urls = []\n",
    "for codes in league_codes:\n",
    "    url = url_temp.format(codes)\n",
    "    print(url)\n",
    "    r = requests.get(url=url, headers=headers)\n",
    "    soup = BeautifulSoup(r.content, 'html.parser')\n",
    "    table = soup.find(\"table\", class_='items')\n",
    "    tbody = table.find(\"tbody\")\n",
    "    rows = tbody.find_all(\"tr\")\n",
    "    for row in rows:\n",
    "        team_links = row.select('a')[0]['href']\n",
    "        print(team_links)\n",
    "        list_urls.append(\"https://www.transfermarkt.co.uk\" + team_links)"
   ]
  },
  {
   "cell_type": "code",
   "execution_count": 32,
   "metadata": {},
   "outputs": [
    {
     "data": {
      "text/plain": [
       "98"
      ]
     },
     "execution_count": 32,
     "metadata": {},
     "output_type": "execute_result"
    }
   ],
   "source": [
    "len(list_urls)"
   ]
  },
  {
   "cell_type": "code",
   "execution_count": 41,
   "metadata": {},
   "outputs": [
    {
     "name": "stdout",
     "output_type": "stream",
     "text": [
      "https://www.transfermarkt.co.uk/manchester-city/startseite/verein/281/saison_id/2022\n"
     ]
    },
    {
     "ename": "AttributeError",
     "evalue": "ResultSet object has no attribute 'find_all'. You're probably treating a list of elements like a single element. Did you call find_all() when you meant to call find()?",
     "output_type": "error",
     "traceback": [
      "\u001b[0;31m---------------------------------------------------------------------------\u001b[0m",
      "\u001b[0;31mAttributeError\u001b[0m                            Traceback (most recent call last)",
      "Cell \u001b[0;32mIn[41], line 8\u001b[0m\n\u001b[1;32m      6\u001b[0m table \u001b[39m=\u001b[39m soup\u001b[39m.\u001b[39mfind(\u001b[39m\"\u001b[39m\u001b[39mtable\u001b[39m\u001b[39m\"\u001b[39m, class_\u001b[39m=\u001b[39m\u001b[39m'\u001b[39m\u001b[39mitems\u001b[39m\u001b[39m'\u001b[39m)\n\u001b[1;32m      7\u001b[0m item \u001b[39m=\u001b[39m table\u001b[39m.\u001b[39mfind_all(\u001b[39m'\u001b[39m\u001b[39mtd\u001b[39m\u001b[39m'\u001b[39m, \u001b[39m'\u001b[39m\u001b[39mhauptlink\u001b[39m\u001b[39m'\u001b[39m)\n\u001b[0;32m----> 8\u001b[0m player_links \u001b[39m=\u001b[39m item\u001b[39m.\u001b[39;49mfind_all(\u001b[39m'\u001b[39m\u001b[39ma\u001b[39m\u001b[39m'\u001b[39m)[\u001b[39m0\u001b[39m][\u001b[39m'\u001b[39m\u001b[39mhref\u001b[39m\u001b[39m'\u001b[39m]\n\u001b[1;32m      9\u001b[0m list_player_url\u001b[39m.\u001b[39mappend(player_links)\n",
      "File \u001b[0;32m/usr/local/lib/python3.11/site-packages/bs4/element.py:2428\u001b[0m, in \u001b[0;36mResultSet.__getattr__\u001b[0;34m(self, key)\u001b[0m\n\u001b[1;32m   2426\u001b[0m \u001b[39mdef\u001b[39;00m \u001b[39m__getattr__\u001b[39m(\u001b[39mself\u001b[39m, key):\n\u001b[1;32m   2427\u001b[0m \u001b[39m    \u001b[39m\u001b[39m\"\"\"Raise a helpful exception to explain a common code fix.\"\"\"\u001b[39;00m\n\u001b[0;32m-> 2428\u001b[0m     \u001b[39mraise\u001b[39;00m \u001b[39mAttributeError\u001b[39;00m(\n\u001b[1;32m   2429\u001b[0m         \u001b[39m\"\u001b[39m\u001b[39mResultSet object has no attribute \u001b[39m\u001b[39m'\u001b[39m\u001b[39m%s\u001b[39;00m\u001b[39m'\u001b[39m\u001b[39m. You\u001b[39m\u001b[39m'\u001b[39m\u001b[39mre probably treating a list of elements like a single element. Did you call find_all() when you meant to call find()?\u001b[39m\u001b[39m\"\u001b[39m \u001b[39m%\u001b[39m key\n\u001b[1;32m   2430\u001b[0m     )\n",
      "\u001b[0;31mAttributeError\u001b[0m: ResultSet object has no attribute 'find_all'. You're probably treating a list of elements like a single element. Did you call find_all() when you meant to call find()?"
     ]
    }
   ],
   "source": [
    "list_player_url = []\n",
    "for links in list_urls:\n",
    "    print(links)\n",
    "    r = requests.get(url=links, headers=headers)\n",
    "    soup = BeautifulSoup(r.content, 'html.parser')\n",
    "    table = soup.find(\"table\", class_='items')\n",
    "    item = table.find_all('td', 'hauptlink')\n",
    "    print(item)\n",
    "    for link in item:\n",
    "        player_links = link.select('a')[0]['href']\n",
    "        list_player_url.append(player_links)"
   ]
  },
  {
   "cell_type": "code",
   "execution_count": 34,
   "metadata": {},
   "outputs": [
    {
     "data": {
      "text/plain": [
       "'/fc-barcelona/startseite/verein/131/saison_id/2022'"
      ]
     },
     "execution_count": 34,
     "metadata": {},
     "output_type": "execute_result"
    }
   ],
   "source": [
    "list_player_url[1]"
   ]
  },
  {
   "cell_type": "code",
   "execution_count": null,
   "metadata": {},
   "outputs": [],
   "source": []
  }
 ],
 "metadata": {
  "kernelspec": {
   "display_name": "Python 3",
   "language": "python",
   "name": "python3"
  },
  "language_info": {
   "codemirror_mode": {
    "name": "ipython",
    "version": 3
   },
   "file_extension": ".py",
   "mimetype": "text/x-python",
   "name": "python",
   "nbconvert_exporter": "python",
   "pygments_lexer": "ipython3",
   "version": "3.11.3"
  },
  "orig_nbformat": 4
 },
 "nbformat": 4,
 "nbformat_minor": 2
}
